{
  "nbformat": 4,
  "nbformat_minor": 0,
  "metadata": {
    "colab": {
      "provenance": []
    },
    "kernelspec": {
      "name": "python3",
      "display_name": "Python 3"
    },
    "language_info": {
      "name": "python"
    }
  },
  "cells": [
    {
      "cell_type": "code",
      "execution_count": null,
      "metadata": {
        "id": "V7VI6SoYvEGx",
        "cellView": "form"
      },
      "outputs": [],
      "source": [
        "#@title Mount Google Drive & Remove Predicted\n",
        "#Utility script to remove predicted structures from gdrive folder\n",
        "\n",
        "from google.colab import drive\n",
        "import glob\n",
        "import os\n",
        "\n",
        "drive.mount('/content/gdrive')\n",
        "batch = \"X\"\n",
        "\n",
        "done = []\n",
        "with open(f\"/content/gdrive/My Drive/RESULTS_{batch}.tsv\", \"r\") as f:\n",
        "  for l in f:\n",
        "    if len(l) > 1 and not l.startswith(\"Structure ID\"):\n",
        "      done.append(l.split()[0])\n",
        "\n",
        "input_folder = f\"/content/gdrive/My Drive/{batch}\"\n",
        "for file in glob.glob(f\"{input_folder}/*.pdb\"):\n",
        "  seq_ID = file.split(\"/\")[-1][:-4]\n",
        "  if seq_ID in done:\n",
        "    os.remove(file)\n",
        "    print(f\"{file} removed.. \")"
      ]
    }
  ]
}